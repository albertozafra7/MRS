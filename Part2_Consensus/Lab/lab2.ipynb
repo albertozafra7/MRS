{
 "cells": [
  {
   "cell_type": "markdown",
   "metadata": {},
   "source": [
    "# Exercise 1\n",
    "By: Jorge Aranda (800839) and Alberto Zafra (876628)"
   ]
  },
  {
   "cell_type": "markdown",
   "metadata": {},
   "source": [
    "## imports"
   ]
  },
  {
   "cell_type": "code",
   "execution_count": null,
   "metadata": {},
   "outputs": [],
   "source": [
    "from __future__ import absolute_import, division, print_function, unicode_literals\n",
    "import random\n",
    "import numpy as np  # Make numpy available using np.\n",
    "from matplotlib import pyplot as plt # Plotting of the graph\n",
    "from bot import bot\n",
    "from plotter import plot_evolutionxy, plot_evolutionx, plot_evolutiony\n"
   ]
  },
  {
   "cell_type": "markdown",
   "metadata": {},
   "source": [
    "## main"
   ]
  },
  {
   "cell_type": "code",
   "execution_count": null,
   "metadata": {},
   "outputs": [],
   "source": [
    "# basic initialization\n",
    "N_bots = 5\n",
    "N_iterations = 2000\n",
    "update_period = 0.1\n",
    "step_size = 0.004\n",
    "initial_pos = [-5,5]\n",
    "connections = [[1,4],[1,2]]\n",
    "# [[0, 1], [0, 2], [1,2], [2, 3]]\n",
    "robot_evolution = None\n",
    "robot_evolution.x = np.array([])\n",
    "robot_evolution.y = np.array([])\n"
   ]
  },
  {
   "cell_type": "code",
   "execution_count": null,
   "metadata": {},
   "outputs": [],
   "source": [
    "# Bots initialization\n",
    "bots = []\n",
    "\n",
    "for i in range(N_bots):\n",
    "    pos = ([random.choice(initial_pos),random.choice(initial_pos)])\n",
    "    bots[i] = bot(i,[],pos,update_period,step_size)\n",
    "    # Store the positions of the robots\n",
    "    np.hstack((robot_evolution.x,pos[0]))\n",
    "    np.hstack((robot_evolution.x,pos[1]))\n",
    "\n",
    "for conn in connections:\n",
    "    bots[conn[0]].add_neighbor(bots[conn[1]])\n",
    "    bots[conn[1]].add_neighbor(bots[conn[0]])\n",
    "\n",
    "for it in range(N_iterations):\n",
    "    for b in bots:\n",
    "       id1, pos1, id2, pos2 = b.step_rendevous()\n",
    "       \n",
    "       # store its evolution\n",
    "       x = robot_evolution.x[-1]\n",
    "       x[id1] = pos1[0]\n",
    "       x[id2] = pos2[0]\n",
    "       \n",
    "       y = robot_evolution.y[-1]\n",
    "       y[id1] = pos1[1]\n",
    "       y[id2] = pos2[1]\n",
    "       \n",
    "       np.vstack((robot_evolution.x,x))\n",
    "       np.vstack((robot_evolution.y,y))   \n",
    "\n"
   ]
  },
  {
   "cell_type": "code",
   "execution_count": null,
   "metadata": {},
   "outputs": [],
   "source": [
    "# Plot the results\n",
    "plot_evolutionxy(robot_evolution.x,robot_evolution.y)"
   ]
  }
 ],
 "metadata": {
  "kernelspec": {
   "display_name": "ml",
   "language": "python",
   "name": "python3"
  },
  "language_info": {
   "name": "python",
   "version": "3.10.13"
  }
 },
 "nbformat": 4,
 "nbformat_minor": 2
}
